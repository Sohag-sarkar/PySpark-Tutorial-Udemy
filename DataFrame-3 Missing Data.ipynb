{
 "cells": [
  {
   "cell_type": "code",
   "execution_count": 1,
   "id": "fd088aa6",
   "metadata": {},
   "outputs": [],
   "source": [
    "from pyspark.sql import SparkSession"
   ]
  },
  {
   "cell_type": "code",
   "execution_count": 2,
   "id": "e67fec49",
   "metadata": {},
   "outputs": [],
   "source": [
    "spark = SparkSession.builder.appName(\"Missing\").getOrCreate()"
   ]
  },
  {
   "cell_type": "code",
   "execution_count": 3,
   "id": "3bbce714",
   "metadata": {},
   "outputs": [
    {
     "data": {
      "text/html": [
       "\n",
       "            <div>\n",
       "                <p><b>SparkSession - in-memory</b></p>\n",
       "                \n",
       "        <div>\n",
       "            <p><b>SparkContext</b></p>\n",
       "\n",
       "            <p><a href=\"http://192.168.0.102:4040\">Spark UI</a></p>\n",
       "\n",
       "            <dl>\n",
       "              <dt>Version</dt>\n",
       "                <dd><code>v3.3.2</code></dd>\n",
       "              <dt>Master</dt>\n",
       "                <dd><code>local[*]</code></dd>\n",
       "              <dt>AppName</dt>\n",
       "                <dd><code>Missing</code></dd>\n",
       "            </dl>\n",
       "        </div>\n",
       "        \n",
       "            </div>\n",
       "        "
      ],
      "text/plain": [
       "<pyspark.sql.session.SparkSession at 0x191cb57fa60>"
      ]
     },
     "execution_count": 3,
     "metadata": {},
     "output_type": "execute_result"
    }
   ],
   "source": [
    "spark"
   ]
  },
  {
   "cell_type": "code",
   "execution_count": 4,
   "id": "ccf1b2fb",
   "metadata": {
    "scrolled": true
   },
   "outputs": [
    {
     "name": "stdout",
     "output_type": "stream",
     "text": [
      "+------+-------+----+-------+----+---+\n",
      "|emp_id|   name|dept|salary | age|sex|\n",
      "+------+-------+----+-------+----+---+\n",
      "|     1|  argha|sale|  10000|  25|  M|\n",
      "|     2|  sohag|tech|  20000|  25|  M|\n",
      "|     7|  soura|tech|  30000|  25|  M|\n",
      "|     4| shivam|tech|  10000|  26|  F|\n",
      "|     5|  lohit|  hr|  40000|  26|  F|\n",
      "|     6|prakash|  hr|  50000|  26|  M|\n",
      "|     8|sourabh|tech|  60000|null|  F|\n",
      "|    10|  biswa|sale|  50000|null|  M|\n",
      "|     7|   null|tech|  30000|  25|  M|\n",
      "|     6|prakash|null|  50000|  26|  M|\n",
      "|     4| shivam|tech|  10000|  26|  F|\n",
      "+------+-------+----+-------+----+---+\n",
      "\n"
     ]
    }
   ],
   "source": [
    "employee = spark.read.csv(\"emp1.csv\" , inferSchema = True, header = True) \n",
    "employee.show()"
   ]
  },
  {
   "cell_type": "code",
   "execution_count": 5,
   "id": "7cb01238",
   "metadata": {},
   "outputs": [
    {
     "name": "stdout",
     "output_type": "stream",
     "text": [
      "+------+-------+----+-------+---+---+\n",
      "|emp_id|   name|dept|salary |age|sex|\n",
      "+------+-------+----+-------+---+---+\n",
      "|     1|  argha|sale|  10000| 25|  M|\n",
      "|     2|  sohag|tech|  20000| 25|  M|\n",
      "|     7|  soura|tech|  30000| 25|  M|\n",
      "|     4| shivam|tech|  10000| 26|  F|\n",
      "|     5|  lohit|  hr|  40000| 26|  F|\n",
      "|     6|prakash|  hr|  50000| 26|  M|\n",
      "|     4| shivam|tech|  10000| 26|  F|\n",
      "+------+-------+----+-------+---+---+\n",
      "\n"
     ]
    }
   ],
   "source": [
    "employee.na.drop().show()"
   ]
  },
  {
   "cell_type": "code",
   "execution_count": 6,
   "id": "a946ebd1",
   "metadata": {},
   "outputs": [
    {
     "name": "stdout",
     "output_type": "stream",
     "text": [
      "+------+-------+----+-------+----+---+\n",
      "|emp_id|   name|dept|salary | age|sex|\n",
      "+------+-------+----+-------+----+---+\n",
      "|     1|  argha|sale|  10000|  25|  M|\n",
      "|     2|  sohag|tech|  20000|  25|  M|\n",
      "|     7|  soura|tech|  30000|  25|  M|\n",
      "|     4| shivam|tech|  10000|  26|  F|\n",
      "|     5|  lohit|  hr|  40000|  26|  F|\n",
      "|     6|prakash|  hr|  50000|  26|  M|\n",
      "|     8|sourabh|tech|  60000|null|  F|\n",
      "|    10|  biswa|sale|  50000|null|  M|\n",
      "|     7|   null|tech|  30000|  25|  M|\n",
      "|     6|prakash|null|  50000|  26|  M|\n",
      "|     4| shivam|tech|  10000|  26|  F|\n",
      "+------+-------+----+-------+----+---+\n",
      "\n"
     ]
    }
   ],
   "source": [
    "employee.na.drop(how = \"all\").show()"
   ]
  },
  {
   "cell_type": "code",
   "execution_count": 7,
   "id": "cdf0ca5a",
   "metadata": {},
   "outputs": [
    {
     "name": "stdout",
     "output_type": "stream",
     "text": [
      "+------+-------+----+-------+----+---+\n",
      "|emp_id|   name|dept|salary | age|sex|\n",
      "+------+-------+----+-------+----+---+\n",
      "|     1|  argha|sale|  10000|  25|  M|\n",
      "|     2|  sohag|tech|  20000|  25|  M|\n",
      "|     7|  soura|tech|  30000|  25|  M|\n",
      "|     4| shivam|tech|  10000|  26|  F|\n",
      "|     5|  lohit|  hr|  40000|  26|  F|\n",
      "|     6|prakash|  hr|  50000|  26|  M|\n",
      "|     8|sourabh|tech|  60000|null|  F|\n",
      "|    10|  biswa|sale|  50000|null|  M|\n",
      "|     7|   null|tech|  30000|  25|  M|\n",
      "|     6|prakash|null|  50000|  26|  M|\n",
      "|     4| shivam|tech|  10000|  26|  F|\n",
      "+------+-------+----+-------+----+---+\n",
      "\n"
     ]
    }
   ],
   "source": [
    "employee.na.drop(thresh = 1 ).show()"
   ]
  },
  {
   "cell_type": "code",
   "execution_count": 8,
   "id": "1a6a3860",
   "metadata": {},
   "outputs": [
    {
     "name": "stdout",
     "output_type": "stream",
     "text": [
      "+------+-------+----+-------+---+---+\n",
      "|emp_id|   name|dept|salary |age|sex|\n",
      "+------+-------+----+-------+---+---+\n",
      "|     1|  argha|sale|  10000| 25|  M|\n",
      "|     2|  sohag|tech|  20000| 25|  M|\n",
      "|     7|  soura|tech|  30000| 25|  M|\n",
      "|     4| shivam|tech|  10000| 26|  F|\n",
      "|     5|  lohit|  hr|  40000| 26|  F|\n",
      "|     6|prakash|  hr|  50000| 26|  M|\n",
      "|     7|   null|tech|  30000| 25|  M|\n",
      "|     6|prakash|null|  50000| 26|  M|\n",
      "|     4| shivam|tech|  10000| 26|  F|\n",
      "+------+-------+----+-------+---+---+\n",
      "\n"
     ]
    }
   ],
   "source": [
    "employee.na.drop(subset = [\"age\"]).show()"
   ]
  },
  {
   "cell_type": "code",
   "execution_count": 11,
   "id": "7a14dd0a",
   "metadata": {},
   "outputs": [
    {
     "name": "stdout",
     "output_type": "stream",
     "text": [
      "+------+-------+----+-------+---+---+\n",
      "|emp_id|   name|dept|salary |age|sex|\n",
      "+------+-------+----+-------+---+---+\n",
      "|     1|  argha|sale|  10000| 25|  M|\n",
      "|     2|  sohag|tech|  20000| 25|  M|\n",
      "|     7|  soura|tech|  30000| 25|  M|\n",
      "|     4| shivam|tech|  10000| 26|  F|\n",
      "|     5|  lohit|  hr|  40000| 26|  F|\n",
      "|     6|prakash|  hr|  50000| 26|  M|\n",
      "|     8|sourabh|tech|  60000| 99|  F|\n",
      "|    10|  biswa|sale|  50000| 99|  M|\n",
      "|     7|   null|tech|  30000| 25|  M|\n",
      "|     6|prakash|null|  50000| 26|  M|\n",
      "|     4| shivam|tech|  10000| 26|  F|\n",
      "+------+-------+----+-------+---+---+\n",
      "\n"
     ]
    }
   ],
   "source": [
    "employee.na.fill(99).show()"
   ]
  },
  {
   "cell_type": "code",
   "execution_count": 12,
   "id": "e2894884",
   "metadata": {
    "scrolled": true
   },
   "outputs": [
    {
     "name": "stdout",
     "output_type": "stream",
     "text": [
      "+------+-------+-------+-------+----+---+\n",
      "|emp_id|   name|   dept|salary | age|sex|\n",
      "+------+-------+-------+-------+----+---+\n",
      "|     1|  argha|   sale|  10000|  25|  M|\n",
      "|     2|  sohag|   tech|  20000|  25|  M|\n",
      "|     7|  soura|   tech|  30000|  25|  M|\n",
      "|     4| shivam|   tech|  10000|  26|  F|\n",
      "|     5|  lohit|     hr|  40000|  26|  F|\n",
      "|     6|prakash|     hr|  50000|  26|  M|\n",
      "|     8|sourabh|   tech|  60000|null|  F|\n",
      "|    10|  biswa|   sale|  50000|null|  M|\n",
      "|     7|unknown|   tech|  30000|  25|  M|\n",
      "|     6|prakash|unknown|  50000|  26|  M|\n",
      "|     4| shivam|   tech|  10000|  26|  F|\n",
      "+------+-------+-------+-------+----+---+\n",
      "\n"
     ]
    }
   ],
   "source": [
    "employee.na.fill(\"unknown\", subset = [\"name\", \"dept\"]).show()"
   ]
  },
  {
   "cell_type": "code",
   "execution_count": 14,
   "id": "b2a7d819",
   "metadata": {},
   "outputs": [],
   "source": [
    "## fill Missing values by mean\n",
    "from pyspark.sql.functions import mean"
   ]
  },
  {
   "cell_type": "code",
   "execution_count": 24,
   "id": "1e8c0280",
   "metadata": {},
   "outputs": [
    {
     "ename": "TypeError",
     "evalue": "'list' object is not callable",
     "output_type": "error",
     "traceback": [
      "\u001b[1;31m---------------------------------------------------------------------------\u001b[0m",
      "\u001b[1;31mTypeError\u001b[0m                                 Traceback (most recent call last)",
      "\u001b[1;32m~\\AppData\\Local\\Temp\\ipykernel_7976\\1387273679.py\u001b[0m in \u001b[0;36m<module>\u001b[1;34m\u001b[0m\n\u001b[1;32m----> 1\u001b[1;33m \u001b[0mmean\u001b[0m \u001b[1;33m=\u001b[0m \u001b[0memployee\u001b[0m\u001b[1;33m.\u001b[0m\u001b[0mselect\u001b[0m\u001b[1;33m(\u001b[0m\u001b[0mmean\u001b[0m\u001b[1;33m(\u001b[0m\u001b[1;34m\"age\"\u001b[0m\u001b[1;33m)\u001b[0m\u001b[1;33m)\u001b[0m\u001b[1;33m.\u001b[0m\u001b[0mcollect\u001b[0m\u001b[1;33m(\u001b[0m\u001b[1;33m)\u001b[0m\u001b[1;33m\u001b[0m\u001b[1;33m\u001b[0m\u001b[0m\n\u001b[0m\u001b[0;32m      2\u001b[0m \u001b[0mmean_age\u001b[0m \u001b[1;33m=\u001b[0m \u001b[0mmean\u001b[0m\u001b[1;33m[\u001b[0m\u001b[1;36m0\u001b[0m\u001b[1;33m]\u001b[0m\u001b[1;33m[\u001b[0m\u001b[1;36m0\u001b[0m\u001b[1;33m]\u001b[0m\u001b[1;33m\u001b[0m\u001b[1;33m\u001b[0m\u001b[0m\n",
      "\u001b[1;31mTypeError\u001b[0m: 'list' object is not callable"
     ]
    }
   ],
   "source": [
    "mean = employee.select(mean(\"age\")).collect()\n",
    "mean_age = mean[0][0]\n"
   ]
  },
  {
   "cell_type": "code",
   "execution_count": 25,
   "id": "5fa941a5",
   "metadata": {},
   "outputs": [
    {
     "name": "stdout",
     "output_type": "stream",
     "text": [
      "+------+-------+----+-------+---+---+\n",
      "|emp_id|   name|dept|salary |age|sex|\n",
      "+------+-------+----+-------+---+---+\n",
      "|     1|  argha|sale|  10000| 25|  M|\n",
      "|     2|  sohag|tech|  20000| 25|  M|\n",
      "|     7|  soura|tech|  30000| 25|  M|\n",
      "|     4| shivam|tech|  10000| 26|  F|\n",
      "|     5|  lohit|  hr|  40000| 26|  F|\n",
      "|     6|prakash|  hr|  50000| 26|  M|\n",
      "|     8|sourabh|tech|  60000| 25|  F|\n",
      "|    10|  biswa|sale|  50000| 25|  M|\n",
      "|     7|   null|tech|  30000| 25|  M|\n",
      "|     6|prakash|null|  50000| 26|  M|\n",
      "|     4| shivam|tech|  10000| 26|  F|\n",
      "+------+-------+----+-------+---+---+\n",
      "\n"
     ]
    }
   ],
   "source": [
    "employee.na.fill(mean_age, subset= [\"age\"]).show()"
   ]
  },
  {
   "cell_type": "code",
   "execution_count": null,
   "id": "19a43f20",
   "metadata": {},
   "outputs": [],
   "source": []
  }
 ],
 "metadata": {
  "kernelspec": {
   "display_name": "Python 3 (ipykernel)",
   "language": "python",
   "name": "python3"
  },
  "language_info": {
   "codemirror_mode": {
    "name": "ipython",
    "version": 3
   },
   "file_extension": ".py",
   "mimetype": "text/x-python",
   "name": "python",
   "nbconvert_exporter": "python",
   "pygments_lexer": "ipython3",
   "version": "3.9.13"
  }
 },
 "nbformat": 4,
 "nbformat_minor": 5
}
