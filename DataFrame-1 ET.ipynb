{
 "cells": [
  {
   "cell_type": "code",
   "execution_count": 1,
   "id": "4f8656cc",
   "metadata": {},
   "outputs": [],
   "source": [
    "from pyspark.sql import SparkSession"
   ]
  },
  {
   "cell_type": "code",
   "execution_count": 2,
   "id": "b6b06d8d",
   "metadata": {},
   "outputs": [],
   "source": [
    "spark = SparkSession.builder.appName(\"Dataframe_1\").getOrCreate()"
   ]
  },
  {
   "cell_type": "code",
   "execution_count": 3,
   "id": "1b5898ca",
   "metadata": {},
   "outputs": [
    {
     "data": {
      "text/html": [
       "\n",
       "            <div>\n",
       "                <p><b>SparkSession - in-memory</b></p>\n",
       "                \n",
       "        <div>\n",
       "            <p><b>SparkContext</b></p>\n",
       "\n",
       "            <p><a href=\"http://192.168.0.102:4040\">Spark UI</a></p>\n",
       "\n",
       "            <dl>\n",
       "              <dt>Version</dt>\n",
       "                <dd><code>v3.3.2</code></dd>\n",
       "              <dt>Master</dt>\n",
       "                <dd><code>local[*]</code></dd>\n",
       "              <dt>AppName</dt>\n",
       "                <dd><code>Dataframe_1</code></dd>\n",
       "            </dl>\n",
       "        </div>\n",
       "        \n",
       "            </div>\n",
       "        "
      ],
      "text/plain": [
       "<pyspark.sql.session.SparkSession at 0x21a0db4ca60>"
      ]
     },
     "execution_count": 3,
     "metadata": {},
     "output_type": "execute_result"
    }
   ],
   "source": [
    "spark"
   ]
  },
  {
   "cell_type": "code",
   "execution_count": 4,
   "id": "6ed11c3a",
   "metadata": {
    "scrolled": true
   },
   "outputs": [],
   "source": [
    "employee = spark.read.csv(\"emp1.csv\", header = True, inferSchema = True )"
   ]
  },
  {
   "cell_type": "code",
   "execution_count": 5,
   "id": "e87519bc",
   "metadata": {
    "scrolled": true
   },
   "outputs": [
    {
     "name": "stdout",
     "output_type": "stream",
     "text": [
      "+------+-------+----+-------+----+---+\n",
      "|emp_id|   name|dept|salary | age|sex|\n",
      "+------+-------+----+-------+----+---+\n",
      "|     1|  argha|sale|  10000|  25|  M|\n",
      "|     2|  sohag|tech|  20000|  25|  M|\n",
      "|     7|  soura|tech|  30000|  25|  M|\n",
      "|     4| shivam|tech|  10000|  26|  F|\n",
      "|     5|  lohit|  hr|  40000|  26|  F|\n",
      "|     6|prakash|  hr|  50000|  26|  M|\n",
      "|     8|sourabh|tech|  60000|null|  F|\n",
      "|    10|  biswa|sale|  50000|null|  M|\n",
      "|     7|   null|tech|  30000|  25|  M|\n",
      "|     6|prakash|null|  50000|  26|  M|\n",
      "|     4| shivam|tech|  10000|  26|  F|\n",
      "+------+-------+----+-------+----+---+\n",
      "\n"
     ]
    }
   ],
   "source": [
    "employee.show()"
   ]
  },
  {
   "cell_type": "code",
   "execution_count": 6,
   "id": "1aaff07b",
   "metadata": {},
   "outputs": [
    {
     "data": {
      "text/plain": [
       "['emp_id', 'name', 'dept', 'salary ', 'age', 'sex']"
      ]
     },
     "execution_count": 6,
     "metadata": {},
     "output_type": "execute_result"
    }
   ],
   "source": [
    "employee.columns"
   ]
  },
  {
   "cell_type": "code",
   "execution_count": 7,
   "id": "590130cf",
   "metadata": {},
   "outputs": [
    {
     "name": "stdout",
     "output_type": "stream",
     "text": [
      "+-------+-----------------+-------+----+------------------+------------------+----+\n",
      "|summary|           emp_id|   name|dept|           salary |               age| sex|\n",
      "+-------+-----------------+-------+----+------------------+------------------+----+\n",
      "|  count|               11|     10|  10|                11|                 9|  11|\n",
      "|   mean|5.454545454545454|   null|null|32727.272727272728|25.555555555555557|null|\n",
      "| stddev|2.621588692515909|   null|null|18488.325554743507|0.5270462766947303|null|\n",
      "|    min|                1|  argha|  hr|             10000|                25|   F|\n",
      "|    max|               10|sourabh|tech|             60000|                26|   M|\n",
      "+-------+-----------------+-------+----+------------------+------------------+----+\n",
      "\n"
     ]
    }
   ],
   "source": [
    "employee.describe().show()"
   ]
  },
  {
   "cell_type": "code",
   "execution_count": 8,
   "id": "0e070fd9",
   "metadata": {
    "scrolled": false
   },
   "outputs": [
    {
     "name": "stdout",
     "output_type": "stream",
     "text": [
      "root\n",
      " |-- emp_id: integer (nullable = true)\n",
      " |-- name: string (nullable = true)\n",
      " |-- dept: string (nullable = true)\n",
      " |-- salary : integer (nullable = true)\n",
      " |-- age: integer (nullable = true)\n",
      " |-- sex: string (nullable = true)\n",
      "\n"
     ]
    }
   ],
   "source": [
    "employee.printSchema()"
   ]
  },
  {
   "cell_type": "code",
   "execution_count": 9,
   "id": "75faf8cf",
   "metadata": {},
   "outputs": [
    {
     "name": "stdout",
     "output_type": "stream",
     "text": [
      "+------+-----+----+-------+---+---+\n",
      "|emp_id| name|dept|salary |age|sex|\n",
      "+------+-----+----+-------+---+---+\n",
      "|     1|argha|sale|  10000| 25|  M|\n",
      "|     2|sohag|tech|  20000| 25|  M|\n",
      "|     7|soura|tech|  30000| 25|  M|\n",
      "+------+-----+----+-------+---+---+\n",
      "only showing top 3 rows\n",
      "\n"
     ]
    }
   ],
   "source": [
    "employee.show(3)"
   ]
  },
  {
   "cell_type": "markdown",
   "id": "cd002535",
   "metadata": {},
   "source": [
    "## Change Datatypes"
   ]
  },
  {
   "cell_type": "code",
   "execution_count": 10,
   "id": "1d2e3a16",
   "metadata": {},
   "outputs": [],
   "source": [
    "from pyspark.sql.types import (StructField, IntegerType, \n",
    "                               StringType, StructType)\n"
   ]
  },
  {
   "cell_type": "code",
   "execution_count": 11,
   "id": "4ed31bb0",
   "metadata": {},
   "outputs": [],
   "source": [
    "data_schema = [StructField(\"emp_id\", IntegerType(), True),\n",
    "               StructField(\"name\", StringType(), True),\n",
    "               StructField(\"dept\", StringType(), True),\n",
    "               StructField(\"salary \", IntegerType(), True),\n",
    "               StructField(\"age\", IntegerType(), True),\n",
    "               StructField(\"sex\", StringType(), True)]"
   ]
  },
  {
   "cell_type": "code",
   "execution_count": 12,
   "id": "69af1742",
   "metadata": {},
   "outputs": [],
   "source": [
    "final_struc = StructType(fields = data_schema  )"
   ]
  },
  {
   "cell_type": "code",
   "execution_count": 13,
   "id": "0e25dbbd",
   "metadata": {},
   "outputs": [],
   "source": [
    "employee = spark.read.csv(\"emp1.csv\", schema = final_struc , header = True  )"
   ]
  },
  {
   "cell_type": "code",
   "execution_count": 14,
   "id": "f647a042",
   "metadata": {},
   "outputs": [
    {
     "name": "stdout",
     "output_type": "stream",
     "text": [
      "root\n",
      " |-- emp_id: integer (nullable = true)\n",
      " |-- name: string (nullable = true)\n",
      " |-- dept: string (nullable = true)\n",
      " |-- salary : integer (nullable = true)\n",
      " |-- age: integer (nullable = true)\n",
      " |-- sex: string (nullable = true)\n",
      "\n"
     ]
    }
   ],
   "source": [
    "employee.printSchema()"
   ]
  },
  {
   "cell_type": "markdown",
   "id": "0d2434a1",
   "metadata": {},
   "source": [
    "## Column Operations"
   ]
  },
  {
   "cell_type": "code",
   "execution_count": 15,
   "id": "da8a7d46",
   "metadata": {},
   "outputs": [
    {
     "name": "stdout",
     "output_type": "stream",
     "text": [
      "+------+-------+----+-------+----+---+\n",
      "|emp_id|   name|dept|salary | age|sex|\n",
      "+------+-------+----+-------+----+---+\n",
      "|     1|  argha|sale|  10000|  25|  M|\n",
      "|     2|  sohag|tech|  20000|  25|  M|\n",
      "|     7|  soura|tech|  30000|  25|  M|\n",
      "|     4| shivam|tech|  10000|  26|  F|\n",
      "|     5|  lohit|  hr|  40000|  26|  F|\n",
      "|     6|prakash|  hr|  50000|  26|  M|\n",
      "|     8|sourabh|tech|  60000|null|  F|\n",
      "|    10|  biswa|sale|  50000|null|  M|\n",
      "|     7|   null|tech|  30000|  25|  M|\n",
      "|     6|prakash|null|  50000|  26|  M|\n",
      "|     4| shivam|tech|  10000|  26|  F|\n",
      "+------+-------+----+-------+----+---+\n",
      "\n"
     ]
    }
   ],
   "source": [
    "employee.show()"
   ]
  },
  {
   "cell_type": "code",
   "execution_count": 16,
   "id": "881e2fc2",
   "metadata": {
    "scrolled": true
   },
   "outputs": [],
   "source": [
    "employee = employee.withColumn(\"new_age\", employee[\"age\"] * 3 )\n"
   ]
  },
  {
   "cell_type": "code",
   "execution_count": 17,
   "id": "67521da1",
   "metadata": {},
   "outputs": [
    {
     "name": "stdout",
     "output_type": "stream",
     "text": [
      "+------+-------+----+-------+----+---+-------+\n",
      "|emp_id|   name|dept|salary | age|sex|new_age|\n",
      "+------+-------+----+-------+----+---+-------+\n",
      "|     1|  argha|sale|  10000|  25|  M|     75|\n",
      "|     2|  sohag|tech|  20000|  25|  M|     75|\n",
      "|     7|  soura|tech|  30000|  25|  M|     75|\n",
      "|     4| shivam|tech|  10000|  26|  F|     78|\n",
      "|     5|  lohit|  hr|  40000|  26|  F|     78|\n",
      "|     6|prakash|  hr|  50000|  26|  M|     78|\n",
      "|     8|sourabh|tech|  60000|null|  F|   null|\n",
      "|    10|  biswa|sale|  50000|null|  M|   null|\n",
      "|     7|   null|tech|  30000|  25|  M|     75|\n",
      "|     6|prakash|null|  50000|  26|  M|     78|\n",
      "|     4| shivam|tech|  10000|  26|  F|     78|\n",
      "+------+-------+----+-------+----+---+-------+\n",
      "\n"
     ]
    }
   ],
   "source": [
    "employee.show()"
   ]
  },
  {
   "cell_type": "code",
   "execution_count": 18,
   "id": "62c3262f",
   "metadata": {},
   "outputs": [],
   "source": [
    "employee = employee.withColumnRenamed(\"salary \",\"salary\" )"
   ]
  },
  {
   "cell_type": "code",
   "execution_count": 19,
   "id": "71dcbe65",
   "metadata": {},
   "outputs": [
    {
     "data": {
      "text/plain": [
       "['emp_id', 'name', 'dept', 'salary', 'age', 'sex', 'new_age']"
      ]
     },
     "execution_count": 19,
     "metadata": {},
     "output_type": "execute_result"
    }
   ],
   "source": [
    "employee.columns"
   ]
  },
  {
   "cell_type": "code",
   "execution_count": 20,
   "id": "cd219b34",
   "metadata": {
    "scrolled": true
   },
   "outputs": [
    {
     "name": "stdout",
     "output_type": "stream",
     "text": [
      "+-------+----+\n",
      "|   name| age|\n",
      "+-------+----+\n",
      "|  argha|  25|\n",
      "|  sohag|  25|\n",
      "|  soura|  25|\n",
      "| shivam|  26|\n",
      "|  lohit|  26|\n",
      "|prakash|  26|\n",
      "|sourabh|null|\n",
      "|  biswa|null|\n",
      "|   null|  25|\n",
      "|prakash|  26|\n",
      "| shivam|  26|\n",
      "+-------+----+\n",
      "\n"
     ]
    }
   ],
   "source": [
    "employee.select([\"name\",\"age\"]).show()"
   ]
  },
  {
   "cell_type": "markdown",
   "id": "06873996",
   "metadata": {},
   "source": [
    "# Running SQL queries after converting DataFrame to Temp View"
   ]
  },
  {
   "cell_type": "code",
   "execution_count": 21,
   "id": "cca562df",
   "metadata": {},
   "outputs": [],
   "source": [
    "employee.createOrReplaceTempView(\"people\")"
   ]
  },
  {
   "cell_type": "code",
   "execution_count": 22,
   "id": "13ed1564",
   "metadata": {},
   "outputs": [
    {
     "name": "stdout",
     "output_type": "stream",
     "text": [
      "+------+-------+----+------+----+---+-------+\n",
      "|emp_id|   name|dept|salary| age|sex|new_age|\n",
      "+------+-------+----+------+----+---+-------+\n",
      "|     1|  argha|sale| 10000|  25|  M|     75|\n",
      "|     2|  sohag|tech| 20000|  25|  M|     75|\n",
      "|     7|  soura|tech| 30000|  25|  M|     75|\n",
      "|     4| shivam|tech| 10000|  26|  F|     78|\n",
      "|     5|  lohit|  hr| 40000|  26|  F|     78|\n",
      "|     6|prakash|  hr| 50000|  26|  M|     78|\n",
      "|     8|sourabh|tech| 60000|null|  F|   null|\n",
      "|    10|  biswa|sale| 50000|null|  M|   null|\n",
      "|     7|   null|tech| 30000|  25|  M|     75|\n",
      "|     6|prakash|null| 50000|  26|  M|     78|\n",
      "|     4| shivam|tech| 10000|  26|  F|     78|\n",
      "+------+-------+----+------+----+---+-------+\n",
      "\n"
     ]
    }
   ],
   "source": [
    "results = spark.sql(\"SELECT * FROM people\")\n",
    "results.show()"
   ]
  },
  {
   "cell_type": "code",
   "execution_count": 23,
   "id": "5794eb9d",
   "metadata": {},
   "outputs": [
    {
     "name": "stdout",
     "output_type": "stream",
     "text": [
      "+------+-------+----+------+---+---+-------+\n",
      "|emp_id|   name|dept|salary|age|sex|new_age|\n",
      "+------+-------+----+------+---+---+-------+\n",
      "|     4| shivam|tech| 10000| 26|  F|     78|\n",
      "|     5|  lohit|  hr| 40000| 26|  F|     78|\n",
      "|     6|prakash|  hr| 50000| 26|  M|     78|\n",
      "|     6|prakash|null| 50000| 26|  M|     78|\n",
      "|     4| shivam|tech| 10000| 26|  F|     78|\n",
      "+------+-------+----+------+---+---+-------+\n",
      "\n"
     ]
    }
   ],
   "source": [
    "new_results = spark.sql(\"SELECT * FROM people WHERE age>25\")\n",
    "new_results.show()"
   ]
  },
  {
   "cell_type": "markdown",
   "id": "5985e7be",
   "metadata": {},
   "source": [
    "# Basic Conditional Operations"
   ]
  },
  {
   "cell_type": "code",
   "execution_count": 24,
   "id": "6f21bb38",
   "metadata": {
    "scrolled": true
   },
   "outputs": [
    {
     "name": "stdout",
     "output_type": "stream",
     "text": [
      "+------+-------+----+------+----+---+-------+\n",
      "|emp_id|   name|dept|salary| age|sex|new_age|\n",
      "+------+-------+----+------+----+---+-------+\n",
      "|     2|  sohag|tech| 20000|  25|  M|     75|\n",
      "|     7|  soura|tech| 30000|  25|  M|     75|\n",
      "|     4| shivam|tech| 10000|  26|  F|     78|\n",
      "|     8|sourabh|tech| 60000|null|  F|   null|\n",
      "|     7|   null|tech| 30000|  25|  M|     75|\n",
      "|     4| shivam|tech| 10000|  26|  F|     78|\n",
      "+------+-------+----+------+----+---+-------+\n",
      "\n"
     ]
    }
   ],
   "source": [
    "employee.filter(employee[\"dept\"] == \"tech\" ).show()"
   ]
  },
  {
   "cell_type": "code",
   "execution_count": 25,
   "id": "d7b5265e",
   "metadata": {
    "scrolled": true
   },
   "outputs": [],
   "source": [
    "apple = spark.read.csv(\"AAPL_data.csv\", inferSchema=True, header = True)"
   ]
  },
  {
   "cell_type": "code",
   "execution_count": 26,
   "id": "dd9df1b6",
   "metadata": {},
   "outputs": [
    {
     "name": "stdout",
     "output_type": "stream",
     "text": [
      "+-------------------+-------+-------+-------+-------+---------+----+\n",
      "|               date|   open|   high|    low|  close|   volume|Name|\n",
      "+-------------------+-------+-------+-------+-------+---------+----+\n",
      "|2013-02-08 00:00:00|67.7142|68.4014|66.8928|67.8542|158168416|AAPL|\n",
      "|2013-02-11 00:00:00|68.0714|69.2771|67.6071|68.5614|129029425|AAPL|\n",
      "|2013-02-12 00:00:00|68.5014|68.9114|66.8205|66.8428|151829363|AAPL|\n",
      "|2013-02-13 00:00:00|66.7442|67.6628|66.1742|66.7156|118721995|AAPL|\n",
      "|2013-02-14 00:00:00|66.3599|67.3771|66.2885|66.6556| 88809154|AAPL|\n",
      "|2013-02-15 00:00:00|66.9785|67.1656|65.7028|65.7371| 97924631|AAPL|\n",
      "|2013-02-19 00:00:00|65.8714|66.1042|64.8356|65.7128|108854046|AAPL|\n",
      "|2013-02-20 00:00:00|65.3842|65.3842|64.1142|64.1214|118891367|AAPL|\n",
      "|2013-02-21 00:00:00|63.7142|64.1671|63.2599|63.7228|111596821|AAPL|\n",
      "|2013-02-22 00:00:00|64.1785|64.5142|63.7999|64.4014| 82583823|AAPL|\n",
      "|2013-02-25 00:00:00|64.8356|65.0171|63.2242|63.2571| 92899597|AAPL|\n",
      "|2013-02-26 00:00:00|63.4028|64.5056|62.5228|64.1385|125096657|AAPL|\n",
      "|2013-02-27 00:00:00|64.0614|64.6342|62.9499|63.5099|146674682|AAPL|\n",
      "|2013-02-28 00:00:00|63.4357|63.9814|63.0571|63.0571| 80532382|AAPL|\n",
      "|2013-03-01 00:00:00|62.5714|62.5971|61.4257|61.4957|137899041|AAPL|\n",
      "|2013-03-04 00:00:00|61.1142|61.1714|59.8571|60.0071|145406366|AAPL|\n",
      "|2013-03-05 00:00:00|60.2114|62.1699|60.1071|61.5919|159298020|AAPL|\n",
      "|2013-03-06 00:00:00|62.0728|62.1785|60.6328|60.8088|114903180|AAPL|\n",
      "|2013-03-07 00:00:00|60.6428|61.7157|60.1514|61.5117|116992841|AAPL|\n",
      "|2013-03-08 00:00:00|61.3999|62.2042|61.2299|61.6742| 97854442|AAPL|\n",
      "+-------------------+-------+-------+-------+-------+---------+----+\n",
      "only showing top 20 rows\n",
      "\n"
     ]
    }
   ],
   "source": [
    "apple.show()"
   ]
  },
  {
   "cell_type": "code",
   "execution_count": 27,
   "id": "2bac876a",
   "metadata": {},
   "outputs": [
    {
     "data": {
      "text/plain": [
       "1259"
      ]
     },
     "execution_count": 27,
     "metadata": {},
     "output_type": "execute_result"
    }
   ],
   "source": [
    "# row count\n",
    "apple.count()"
   ]
  },
  {
   "cell_type": "code",
   "execution_count": 28,
   "id": "1818d030",
   "metadata": {},
   "outputs": [
    {
     "data": {
      "text/plain": [
       "7"
      ]
     },
     "execution_count": 28,
     "metadata": {},
     "output_type": "execute_result"
    }
   ],
   "source": [
    "# column count\n",
    "len(apple.columns)"
   ]
  },
  {
   "cell_type": "code",
   "execution_count": 29,
   "id": "4300708b",
   "metadata": {},
   "outputs": [
    {
     "name": "stdout",
     "output_type": "stream",
     "text": [
      "+-------+------------------+------------------+------------------+------------------+-------------------+----+\n",
      "|summary|              open|              high|               low|             close|             volume|Name|\n",
      "+-------+------------------+------------------+------------------+------------------+-------------------+----+\n",
      "|  count|              1259|              1259|              1259|              1259|               1259|1259|\n",
      "|   mean|109.05542891183475|109.95111834789516|108.14158888006372|109.06669849086583|5.404789973550437E7|null|\n",
      "| stddev| 30.54922002458826|30.686186407983914|30.376223585852472|30.556811676964696|  3.3468353335784E7|null|\n",
      "|    min|           55.4242|           57.0857|           55.0142|           55.7899|           11475922|AAPL|\n",
      "|    max|            179.37|             180.1|            178.25|            179.26|          266833581|AAPL|\n",
      "+-------+------------------+------------------+------------------+------------------+-------------------+----+\n",
      "\n"
     ]
    }
   ],
   "source": [
    "apple.describe().show()"
   ]
  },
  {
   "cell_type": "code",
   "execution_count": 30,
   "id": "09aeaa66",
   "metadata": {},
   "outputs": [
    {
     "name": "stdout",
     "output_type": "stream",
     "text": [
      "+--------+\n",
      "|  volume|\n",
      "+--------+\n",
      "|59398631|\n",
      "|35026306|\n",
      "|24361485|\n",
      "|24409527|\n",
      "|29185668|\n",
      "|25145500|\n",
      "|16982080|\n",
      "|24782487|\n",
      "|23637484|\n",
      "|21899544|\n",
      "|16262447|\n",
      "|25131295|\n",
      "|25588925|\n",
      "|14026673|\n",
      "|20716802|\n",
      "|26428802|\n",
      "|41666364|\n",
      "|41527218|\n",
      "|32542385|\n",
      "|23355231|\n",
      "+--------+\n",
      "only showing top 20 rows\n",
      "\n"
     ]
    }
   ],
   "source": [
    "apple.filter(apple[\"open\"] > 170).select(\"volume\").show()"
   ]
  },
  {
   "cell_type": "code",
   "execution_count": 31,
   "id": "059f61ca",
   "metadata": {},
   "outputs": [
    {
     "name": "stdout",
     "output_type": "stream",
     "text": [
      "+-------------------+------+------+-------+-----+---------+----+\n",
      "|               date|  open|  high|    low|close|   volume|Name|\n",
      "+-------------------+------+------+-------+-----+---------+----+\n",
      "|2014-09-03 00:00:00| 103.1| 103.2|  98.58|98.94|125420521|AAPL|\n",
      "|2014-09-25 00:00:00|100.51|100.71|  97.72|97.87|100091990|AAPL|\n",
      "|2014-10-01 00:00:00|100.59|100.69|   98.7|99.18| 51491286|AAPL|\n",
      "|2014-10-13 00:00:00|101.33|101.78|  99.81|99.81| 53583368|AAPL|\n",
      "|2014-10-14 00:00:00|100.39|100.52|  98.57|98.75| 63688562|AAPL|\n",
      "|2016-01-12 00:00:00|100.55|100.69|98.8399|99.96| 49154227|AAPL|\n",
      "|2016-01-13 00:00:00|100.32|101.19|   97.3|97.39| 62439631|AAPL|\n",
      "|2016-01-25 00:00:00|101.52|101.53|  99.21|99.44| 51794525|AAPL|\n",
      "+-------------------+------+------+-------+-----+---------+----+\n",
      "\n"
     ]
    }
   ],
   "source": [
    "apple.filter((apple[\"open\"]> 100) & (apple[\"close\"]< 100)).show()"
   ]
  },
  {
   "cell_type": "code",
   "execution_count": 34,
   "id": "d609a07b",
   "metadata": {},
   "outputs": [],
   "source": [
    "filter_data = apple.filter((apple[\"open\"]> 100) & (apple[\"close\"]< 100)).collect()"
   ]
  },
  {
   "cell_type": "code",
   "execution_count": 42,
   "id": "f205ab6a",
   "metadata": {
    "scrolled": false
   },
   "outputs": [],
   "source": [
    "row = filter_data[0]"
   ]
  },
  {
   "cell_type": "code",
   "execution_count": 44,
   "id": "7b830120",
   "metadata": {},
   "outputs": [
    {
     "data": {
      "text/plain": [
       "98.94"
      ]
     },
     "execution_count": 44,
     "metadata": {},
     "output_type": "execute_result"
    }
   ],
   "source": [
    "row.asDict()[\"close\"]"
   ]
  },
  {
   "cell_type": "code",
   "execution_count": null,
   "id": "75a8e722",
   "metadata": {},
   "outputs": [],
   "source": []
  }
 ],
 "metadata": {
  "kernelspec": {
   "display_name": "Python 3 (ipykernel)",
   "language": "python",
   "name": "python3"
  },
  "language_info": {
   "codemirror_mode": {
    "name": "ipython",
    "version": 3
   },
   "file_extension": ".py",
   "mimetype": "text/x-python",
   "name": "python",
   "nbconvert_exporter": "python",
   "pygments_lexer": "ipython3",
   "version": "3.9.13"
  }
 },
 "nbformat": 4,
 "nbformat_minor": 5
}
