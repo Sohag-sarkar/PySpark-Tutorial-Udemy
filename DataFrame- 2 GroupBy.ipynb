{
 "cells": [
  {
   "cell_type": "code",
   "execution_count": 1,
   "id": "4b9402eb",
   "metadata": {},
   "outputs": [],
   "source": [
    "from pyspark.sql import SparkSession"
   ]
  },
  {
   "cell_type": "code",
   "execution_count": 2,
   "id": "4986d492",
   "metadata": {},
   "outputs": [],
   "source": [
    "spark = SparkSession.builder.appName(\"GroupBy_Agg\").getOrCreate()"
   ]
  },
  {
   "cell_type": "code",
   "execution_count": 3,
   "id": "4b530a30",
   "metadata": {},
   "outputs": [
    {
     "data": {
      "text/html": [
       "\n",
       "            <div>\n",
       "                <p><b>SparkSession - in-memory</b></p>\n",
       "                \n",
       "        <div>\n",
       "            <p><b>SparkContext</b></p>\n",
       "\n",
       "            <p><a href=\"http://192.168.0.102:4040\">Spark UI</a></p>\n",
       "\n",
       "            <dl>\n",
       "              <dt>Version</dt>\n",
       "                <dd><code>v3.3.2</code></dd>\n",
       "              <dt>Master</dt>\n",
       "                <dd><code>local[*]</code></dd>\n",
       "              <dt>AppName</dt>\n",
       "                <dd><code>GroupBy_Agg</code></dd>\n",
       "            </dl>\n",
       "        </div>\n",
       "        \n",
       "            </div>\n",
       "        "
      ],
      "text/plain": [
       "<pyspark.sql.session.SparkSession at 0x14d027beb20>"
      ]
     },
     "execution_count": 3,
     "metadata": {},
     "output_type": "execute_result"
    }
   ],
   "source": [
    "spark"
   ]
  },
  {
   "cell_type": "code",
   "execution_count": 4,
   "id": "930f0177",
   "metadata": {},
   "outputs": [],
   "source": [
    "employee = spark.read.csv(\"emp1.csv\", inferSchema= True, header= True)"
   ]
  },
  {
   "cell_type": "code",
   "execution_count": 5,
   "id": "a0c6b37a",
   "metadata": {
    "scrolled": true
   },
   "outputs": [
    {
     "name": "stdout",
     "output_type": "stream",
     "text": [
      "+------+-------+----+-------+----+---+\n",
      "|emp_id|   name|dept|salary | age|sex|\n",
      "+------+-------+----+-------+----+---+\n",
      "|     1|  argha|sale|  10000|  25|  M|\n",
      "|     2|  sohag|tech|  20000|  25|  M|\n",
      "|     7|  soura|tech|  30000|  25|  M|\n",
      "|     4| shivam|tech|  10000|  26|  F|\n",
      "|     5|  lohit|  hr|  40000|  26|  F|\n",
      "|     6|prakash|  hr|  50000|  26|  M|\n",
      "|     8|sourabh|tech|  60000|null|  F|\n",
      "|    10|  biswa|sale|  50000|null|  M|\n",
      "|     7|   null|tech|  30000|  25|  M|\n",
      "|     6|prakash|null|  50000|  26|  M|\n",
      "|     4| shivam|tech|  10000|  26|  F|\n",
      "+------+-------+----+-------+----+---+\n",
      "\n"
     ]
    }
   ],
   "source": [
    "employee.show()"
   ]
  },
  {
   "cell_type": "code",
   "execution_count": 6,
   "id": "8489ae81",
   "metadata": {},
   "outputs": [
    {
     "name": "stdout",
     "output_type": "stream",
     "text": [
      "root\n",
      " |-- emp_id: integer (nullable = true)\n",
      " |-- name: string (nullable = true)\n",
      " |-- dept: string (nullable = true)\n",
      " |-- salary : integer (nullable = true)\n",
      " |-- age: integer (nullable = true)\n",
      " |-- sex: string (nullable = true)\n",
      "\n"
     ]
    }
   ],
   "source": [
    "employee.printSchema()"
   ]
  },
  {
   "cell_type": "code",
   "execution_count": 7,
   "id": "d511c117",
   "metadata": {},
   "outputs": [
    {
     "name": "stdout",
     "output_type": "stream",
     "text": [
      "+----+-----------+------------+--------+\n",
      "|dept|sum(emp_id)|sum(salary )|sum(age)|\n",
      "+----+-----------+------------+--------+\n",
      "|null|          6|       50000|      26|\n",
      "|  hr|         11|       90000|      52|\n",
      "|sale|         11|       60000|      25|\n",
      "|tech|         32|      160000|     127|\n",
      "+----+-----------+------------+--------+\n",
      "\n"
     ]
    }
   ],
   "source": [
    "employee.groupBy(\"dept\").sum().show()"
   ]
  },
  {
   "cell_type": "code",
   "execution_count": 8,
   "id": "9d09bd22",
   "metadata": {},
   "outputs": [
    {
     "name": "stdout",
     "output_type": "stream",
     "text": [
      "+----+-----------------+------------------+--------+\n",
      "|dept|      avg(emp_id)|      avg(salary )|avg(age)|\n",
      "+----+-----------------+------------------+--------+\n",
      "|null|              6.0|           50000.0|    26.0|\n",
      "|  hr|              5.5|           45000.0|    26.0|\n",
      "|sale|              5.5|           30000.0|    25.0|\n",
      "|tech|5.333333333333333|26666.666666666668|    25.4|\n",
      "+----+-----------------+------------------+--------+\n",
      "\n"
     ]
    }
   ],
   "source": [
    "employee.groupBy(\"dept\").mean().show()"
   ]
  },
  {
   "cell_type": "code",
   "execution_count": 9,
   "id": "52b77108",
   "metadata": {},
   "outputs": [
    {
     "name": "stdout",
     "output_type": "stream",
     "text": [
      "+----+-----+\n",
      "|dept|count|\n",
      "+----+-----+\n",
      "|null|    1|\n",
      "|  hr|    2|\n",
      "|sale|    2|\n",
      "|tech|    6|\n",
      "+----+-----+\n",
      "\n"
     ]
    }
   ],
   "source": [
    "employee.groupBy(\"dept\").count().show()"
   ]
  },
  {
   "cell_type": "code",
   "execution_count": 10,
   "id": "e5f8c520",
   "metadata": {},
   "outputs": [
    {
     "name": "stdout",
     "output_type": "stream",
     "text": [
      "+----+-----+\n",
      "|dept|count|\n",
      "+----+-----+\n",
      "|null|    1|\n",
      "|  hr|    2|\n",
      "|sale|    2|\n",
      "|tech|    6|\n",
      "+----+-----+\n",
      "\n"
     ]
    }
   ],
   "source": [
    "employee.groupBy(\"dept\").count().show()"
   ]
  },
  {
   "cell_type": "code",
   "execution_count": 16,
   "id": "b3c936c9",
   "metadata": {},
   "outputs": [
    {
     "ename": "AttributeError",
     "evalue": "'DataFrame' object has no attribute 'sum'",
     "output_type": "error",
     "traceback": [
      "\u001b[1;31m---------------------------------------------------------------------------\u001b[0m",
      "\u001b[1;31mAttributeError\u001b[0m                            Traceback (most recent call last)",
      "\u001b[1;32m~\\AppData\\Local\\Temp\\ipykernel_2344\\2741199264.py\u001b[0m in \u001b[0;36m<module>\u001b[1;34m\u001b[0m\n\u001b[1;32m----> 1\u001b[1;33m \u001b[0memployee\u001b[0m\u001b[1;33m.\u001b[0m\u001b[0mselect\u001b[0m\u001b[1;33m(\u001b[0m\u001b[1;34m\"salary \"\u001b[0m\u001b[1;33m)\u001b[0m\u001b[1;33m.\u001b[0m\u001b[0msum\u001b[0m\u001b[1;33m(\u001b[0m\u001b[1;33m)\u001b[0m\u001b[1;33m.\u001b[0m\u001b[0mshow\u001b[0m\u001b[1;33m(\u001b[0m\u001b[1;33m)\u001b[0m\u001b[1;33m\u001b[0m\u001b[1;33m\u001b[0m\u001b[0m\n\u001b[0m",
      "\u001b[1;32m~\\anaconda3\\lib\\site-packages\\pyspark\\sql\\dataframe.py\u001b[0m in \u001b[0;36m__getattr__\u001b[1;34m(self, name)\u001b[0m\n\u001b[0;32m   1986\u001b[0m         \"\"\"\n\u001b[0;32m   1987\u001b[0m         \u001b[1;32mif\u001b[0m \u001b[0mname\u001b[0m \u001b[1;32mnot\u001b[0m \u001b[1;32min\u001b[0m \u001b[0mself\u001b[0m\u001b[1;33m.\u001b[0m\u001b[0mcolumns\u001b[0m\u001b[1;33m:\u001b[0m\u001b[1;33m\u001b[0m\u001b[1;33m\u001b[0m\u001b[0m\n\u001b[1;32m-> 1988\u001b[1;33m             raise AttributeError(\n\u001b[0m\u001b[0;32m   1989\u001b[0m                 \u001b[1;34m\"'%s' object has no attribute '%s'\"\u001b[0m \u001b[1;33m%\u001b[0m \u001b[1;33m(\u001b[0m\u001b[0mself\u001b[0m\u001b[1;33m.\u001b[0m\u001b[0m__class__\u001b[0m\u001b[1;33m.\u001b[0m\u001b[0m__name__\u001b[0m\u001b[1;33m,\u001b[0m \u001b[0mname\u001b[0m\u001b[1;33m)\u001b[0m\u001b[1;33m\u001b[0m\u001b[1;33m\u001b[0m\u001b[0m\n\u001b[0;32m   1990\u001b[0m             )\n",
      "\u001b[1;31mAttributeError\u001b[0m: 'DataFrame' object has no attribute 'sum'"
     ]
    }
   ],
   "source": [
    "employee.select(\"salary \").show()"
   ]
  },
  {
   "cell_type": "code",
   "execution_count": 17,
   "id": "04a15f2c",
   "metadata": {},
   "outputs": [
    {
     "name": "stdout",
     "output_type": "stream",
     "text": [
      "+------------+\n",
      "|sum(salary )|\n",
      "+------------+\n",
      "|      360000|\n",
      "+------------+\n",
      "\n"
     ]
    }
   ],
   "source": [
    "employee.agg({\"salary \" : \"sum\"}).show()"
   ]
  },
  {
   "cell_type": "code",
   "execution_count": 18,
   "id": "fc235e78",
   "metadata": {},
   "outputs": [
    {
     "name": "stdout",
     "output_type": "stream",
     "text": [
      "+------------+\n",
      "|max(salary )|\n",
      "+------------+\n",
      "|       60000|\n",
      "+------------+\n",
      "\n"
     ]
    }
   ],
   "source": [
    "employee.agg({\"salary \" : \"max\"}).show()"
   ]
  },
  {
   "cell_type": "code",
   "execution_count": 19,
   "id": "2b181243",
   "metadata": {},
   "outputs": [
    {
     "name": "stdout",
     "output_type": "stream",
     "text": [
      "+----+------------+\n",
      "|dept|max(Salary )|\n",
      "+----+------------+\n",
      "|null|       50000|\n",
      "|  hr|       50000|\n",
      "|sale|       50000|\n",
      "|tech|       60000|\n",
      "+----+------------+\n",
      "\n"
     ]
    }
   ],
   "source": [
    "data_group = employee.groupBy(\"dept\")\n",
    "data_group.agg({\"Salary \" : \"max\" }).show()"
   ]
  },
  {
   "cell_type": "code",
   "execution_count": 23,
   "id": "bf064241",
   "metadata": {},
   "outputs": [
    {
     "name": "stdout",
     "output_type": "stream",
     "text": [
      "+----+------------+\n",
      "|dept|max(salary )|\n",
      "+----+------------+\n",
      "|null|       50000|\n",
      "|  hr|       50000|\n",
      "|sale|       50000|\n",
      "|tech|       60000|\n",
      "+----+------------+\n",
      "\n"
     ]
    }
   ],
   "source": [
    "employee.groupby(\"dept\").max().select([\"dept\",\"max(salary )\"]).show()"
   ]
  },
  {
   "cell_type": "markdown",
   "id": "262e8d6b",
   "metadata": {},
   "source": [
    "# Importing Aggregate functions "
   ]
  },
  {
   "cell_type": "code",
   "execution_count": 24,
   "id": "1b366576",
   "metadata": {},
   "outputs": [],
   "source": [
    "from pyspark.sql.functions import avg, stddev, count, countDistinct"
   ]
  },
  {
   "cell_type": "code",
   "execution_count": 26,
   "id": "283751eb",
   "metadata": {
    "scrolled": true
   },
   "outputs": [
    {
     "name": "stdout",
     "output_type": "stream",
     "text": [
      "+------------------+\n",
      "|        Avg Salary|\n",
      "+------------------+\n",
      "|32727.272727272728|\n",
      "+------------------+\n",
      "\n"
     ]
    }
   ],
   "source": [
    "employee.select(avg(\"salary \").alias(\"Avg Salary\")).show()"
   ]
  },
  {
   "cell_type": "code",
   "execution_count": 29,
   "id": "f529007b",
   "metadata": {},
   "outputs": [],
   "source": [
    "from pyspark.sql.functions import format_number"
   ]
  },
  {
   "cell_type": "code",
   "execution_count": 32,
   "id": "ce85ac68",
   "metadata": {},
   "outputs": [
    {
     "name": "stdout",
     "output_type": "stream",
     "text": [
      "+---------+\n",
      "|    final|\n",
      "+---------+\n",
      "|18,488.33|\n",
      "+---------+\n",
      "\n"
     ]
    }
   ],
   "source": [
    "std_data = employee.select(stddev(\"salary \").alias(\"std\"))\n",
    "std_data.select(format_number(\"std\", 2). alias(\"final\")).show()"
   ]
  },
  {
   "cell_type": "code",
   "execution_count": 34,
   "id": "2baabab3",
   "metadata": {},
   "outputs": [
    {
     "name": "stdout",
     "output_type": "stream",
     "text": [
      "+------+-------+----+-------+----+---+\n",
      "|emp_id|   name|dept|salary | age|sex|\n",
      "+------+-------+----+-------+----+---+\n",
      "|     4| shivam|tech|  10000|  26|  F|\n",
      "|     4| shivam|tech|  10000|  26|  F|\n",
      "|     1|  argha|sale|  10000|  25|  M|\n",
      "|     2|  sohag|tech|  20000|  25|  M|\n",
      "|     7|  soura|tech|  30000|  25|  M|\n",
      "|     7|   null|tech|  30000|  25|  M|\n",
      "|     5|  lohit|  hr|  40000|  26|  F|\n",
      "|     6|prakash|  hr|  50000|  26|  M|\n",
      "|    10|  biswa|sale|  50000|null|  M|\n",
      "|     6|prakash|null|  50000|  26|  M|\n",
      "|     8|sourabh|tech|  60000|null|  F|\n",
      "+------+-------+----+-------+----+---+\n",
      "\n"
     ]
    }
   ],
   "source": [
    "# orderBy \n",
    "employee.orderBy(\"salary \").show()"
   ]
  },
  {
   "cell_type": "code",
   "execution_count": 42,
   "id": "f59b7782",
   "metadata": {},
   "outputs": [
    {
     "name": "stdout",
     "output_type": "stream",
     "text": [
      "+------+-------+----+-------+----+---+\n",
      "|emp_id|   name|dept|salary | age|sex|\n",
      "+------+-------+----+-------+----+---+\n",
      "|     8|sourabh|tech|  60000|null|  F|\n",
      "|    10|  biswa|sale|  50000|null|  M|\n",
      "|     6|prakash|  hr|  50000|  26|  M|\n",
      "|     6|prakash|null|  50000|  26|  M|\n",
      "|     5|  lohit|  hr|  40000|  26|  F|\n",
      "|     7|   null|tech|  30000|  25|  M|\n",
      "|     7|  soura|tech|  30000|  25|  M|\n",
      "|     2|  sohag|tech|  20000|  25|  M|\n",
      "|     1|  argha|sale|  10000|  25|  M|\n",
      "|     4| shivam|tech|  10000|  26|  F|\n",
      "|     4| shivam|tech|  10000|  26|  F|\n",
      "+------+-------+----+-------+----+---+\n",
      "\n"
     ]
    }
   ],
   "source": [
    "employee.orderBy(employee[\"salary \"].desc()).show()"
   ]
  },
  {
   "cell_type": "code",
   "execution_count": 43,
   "id": "9a0fb4f7",
   "metadata": {},
   "outputs": [
    {
     "data": {
      "text/plain": [
       "Column<'salary '>"
      ]
     },
     "execution_count": 43,
     "metadata": {},
     "output_type": "execute_result"
    }
   ],
   "source": [
    "employee[\"salary \"]"
   ]
  },
  {
   "cell_type": "code",
   "execution_count": null,
   "id": "67a5e0e1",
   "metadata": {},
   "outputs": [],
   "source": []
  }
 ],
 "metadata": {
  "kernelspec": {
   "display_name": "Python 3 (ipykernel)",
   "language": "python",
   "name": "python3"
  },
  "language_info": {
   "codemirror_mode": {
    "name": "ipython",
    "version": 3
   },
   "file_extension": ".py",
   "mimetype": "text/x-python",
   "name": "python",
   "nbconvert_exporter": "python",
   "pygments_lexer": "ipython3",
   "version": "3.9.13"
  }
 },
 "nbformat": 4,
 "nbformat_minor": 5
}
